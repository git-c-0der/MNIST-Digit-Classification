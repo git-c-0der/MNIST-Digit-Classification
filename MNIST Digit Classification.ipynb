{
 "cells": [
  {
   "cell_type": "code",
   "execution_count": 1,
   "id": "df38ac0f",
   "metadata": {
    "execution": {
     "iopub.execute_input": "2022-04-06T15:03:54.581090Z",
     "iopub.status.busy": "2022-04-06T15:03:54.580193Z",
     "iopub.status.idle": "2022-04-06T15:03:55.958351Z",
     "shell.execute_reply": "2022-04-06T15:03:55.957266Z"
    },
    "id": "fQpnxT4QgFwO",
    "papermill": {
     "duration": 1.516951,
     "end_time": "2022-04-06T15:03:55.958532",
     "exception": false,
     "start_time": "2022-04-06T15:03:54.441581",
     "status": "completed"
    },
    "tags": []
   },
   "outputs": [],
   "source": [
    "import matplotlib.pyplot as plt\n",
    "import pandas as pd\n",
    "import numpy as np\n",
    "import seaborn as sb\n",
    "from sklearn.linear_model import LogisticRegression \n",
    "from sklearn.preprocessing import StandardScaler\n",
    "from sklearn.model_selection import train_test_split\n",
    "from sklearn import svm\n",
    "from sklearn import metrics\n",
    "import warnings\n",
    "warnings.filterwarnings('ignore')"
   ]
  },
  {
   "cell_type": "code",
   "execution_count": 2,
   "id": "d7ab4cbe",
   "metadata": {
    "execution": {
     "iopub.execute_input": "2022-04-06T15:03:56.027976Z",
     "iopub.status.busy": "2022-04-06T15:03:56.027057Z",
     "iopub.status.idle": "2022-04-06T15:03:59.752637Z",
     "shell.execute_reply": "2022-04-06T15:03:59.753214Z"
    },
    "id": "0D5D6vk8heuB",
    "outputId": "b2b4d478-0240-47a1-9415-e54e0b67623b",
    "papermill": {
     "duration": 3.760444,
     "end_time": "2022-04-06T15:03:59.753389",
     "exception": false,
     "start_time": "2022-04-06T15:03:55.992945",
     "status": "completed"
    },
    "tags": []
   },
   "outputs": [
    {
     "data": {
      "text/plain": [
       "(42000, 785)"
      ]
     },
     "execution_count": 2,
     "metadata": {},
     "output_type": "execute_result"
    }
   ],
   "source": [
    "train = pd.read_csv('../input/digit-recognizer/train.csv')\n",
    "train.shape"
   ]
  },
  {
   "cell_type": "code",
   "execution_count": 3,
   "id": "a4aecf77",
   "metadata": {
    "execution": {
     "iopub.execute_input": "2022-04-06T15:03:59.826364Z",
     "iopub.status.busy": "2022-04-06T15:03:59.825380Z",
     "iopub.status.idle": "2022-04-06T15:03:59.844862Z",
     "shell.execute_reply": "2022-04-06T15:03:59.845488Z"
    },
    "id": "JXC5i0bQhrPL",
    "outputId": "9773e7fc-977c-4ed4-b85a-83d67f42904d",
    "papermill": {
     "duration": 0.059997,
     "end_time": "2022-04-06T15:03:59.845654",
     "exception": false,
     "start_time": "2022-04-06T15:03:59.785657",
     "status": "completed"
    },
    "tags": []
   },
   "outputs": [
    {
     "data": {
      "text/html": [
       "<div>\n",
       "<style scoped>\n",
       "    .dataframe tbody tr th:only-of-type {\n",
       "        vertical-align: middle;\n",
       "    }\n",
       "\n",
       "    .dataframe tbody tr th {\n",
       "        vertical-align: top;\n",
       "    }\n",
       "\n",
       "    .dataframe thead th {\n",
       "        text-align: right;\n",
       "    }\n",
       "</style>\n",
       "<table border=\"1\" class=\"dataframe\">\n",
       "  <thead>\n",
       "    <tr style=\"text-align: right;\">\n",
       "      <th></th>\n",
       "      <th>label</th>\n",
       "      <th>pixel0</th>\n",
       "      <th>pixel1</th>\n",
       "      <th>pixel2</th>\n",
       "      <th>pixel3</th>\n",
       "      <th>pixel4</th>\n",
       "      <th>pixel5</th>\n",
       "      <th>pixel6</th>\n",
       "      <th>pixel7</th>\n",
       "      <th>pixel8</th>\n",
       "      <th>...</th>\n",
       "      <th>pixel774</th>\n",
       "      <th>pixel775</th>\n",
       "      <th>pixel776</th>\n",
       "      <th>pixel777</th>\n",
       "      <th>pixel778</th>\n",
       "      <th>pixel779</th>\n",
       "      <th>pixel780</th>\n",
       "      <th>pixel781</th>\n",
       "      <th>pixel782</th>\n",
       "      <th>pixel783</th>\n",
       "    </tr>\n",
       "  </thead>\n",
       "  <tbody>\n",
       "    <tr>\n",
       "      <th>0</th>\n",
       "      <td>1</td>\n",
       "      <td>0</td>\n",
       "      <td>0</td>\n",
       "      <td>0</td>\n",
       "      <td>0</td>\n",
       "      <td>0</td>\n",
       "      <td>0</td>\n",
       "      <td>0</td>\n",
       "      <td>0</td>\n",
       "      <td>0</td>\n",
       "      <td>...</td>\n",
       "      <td>0</td>\n",
       "      <td>0</td>\n",
       "      <td>0</td>\n",
       "      <td>0</td>\n",
       "      <td>0</td>\n",
       "      <td>0</td>\n",
       "      <td>0</td>\n",
       "      <td>0</td>\n",
       "      <td>0</td>\n",
       "      <td>0</td>\n",
       "    </tr>\n",
       "    <tr>\n",
       "      <th>1</th>\n",
       "      <td>0</td>\n",
       "      <td>0</td>\n",
       "      <td>0</td>\n",
       "      <td>0</td>\n",
       "      <td>0</td>\n",
       "      <td>0</td>\n",
       "      <td>0</td>\n",
       "      <td>0</td>\n",
       "      <td>0</td>\n",
       "      <td>0</td>\n",
       "      <td>...</td>\n",
       "      <td>0</td>\n",
       "      <td>0</td>\n",
       "      <td>0</td>\n",
       "      <td>0</td>\n",
       "      <td>0</td>\n",
       "      <td>0</td>\n",
       "      <td>0</td>\n",
       "      <td>0</td>\n",
       "      <td>0</td>\n",
       "      <td>0</td>\n",
       "    </tr>\n",
       "    <tr>\n",
       "      <th>2</th>\n",
       "      <td>1</td>\n",
       "      <td>0</td>\n",
       "      <td>0</td>\n",
       "      <td>0</td>\n",
       "      <td>0</td>\n",
       "      <td>0</td>\n",
       "      <td>0</td>\n",
       "      <td>0</td>\n",
       "      <td>0</td>\n",
       "      <td>0</td>\n",
       "      <td>...</td>\n",
       "      <td>0</td>\n",
       "      <td>0</td>\n",
       "      <td>0</td>\n",
       "      <td>0</td>\n",
       "      <td>0</td>\n",
       "      <td>0</td>\n",
       "      <td>0</td>\n",
       "      <td>0</td>\n",
       "      <td>0</td>\n",
       "      <td>0</td>\n",
       "    </tr>\n",
       "    <tr>\n",
       "      <th>3</th>\n",
       "      <td>4</td>\n",
       "      <td>0</td>\n",
       "      <td>0</td>\n",
       "      <td>0</td>\n",
       "      <td>0</td>\n",
       "      <td>0</td>\n",
       "      <td>0</td>\n",
       "      <td>0</td>\n",
       "      <td>0</td>\n",
       "      <td>0</td>\n",
       "      <td>...</td>\n",
       "      <td>0</td>\n",
       "      <td>0</td>\n",
       "      <td>0</td>\n",
       "      <td>0</td>\n",
       "      <td>0</td>\n",
       "      <td>0</td>\n",
       "      <td>0</td>\n",
       "      <td>0</td>\n",
       "      <td>0</td>\n",
       "      <td>0</td>\n",
       "    </tr>\n",
       "    <tr>\n",
       "      <th>4</th>\n",
       "      <td>0</td>\n",
       "      <td>0</td>\n",
       "      <td>0</td>\n",
       "      <td>0</td>\n",
       "      <td>0</td>\n",
       "      <td>0</td>\n",
       "      <td>0</td>\n",
       "      <td>0</td>\n",
       "      <td>0</td>\n",
       "      <td>0</td>\n",
       "      <td>...</td>\n",
       "      <td>0</td>\n",
       "      <td>0</td>\n",
       "      <td>0</td>\n",
       "      <td>0</td>\n",
       "      <td>0</td>\n",
       "      <td>0</td>\n",
       "      <td>0</td>\n",
       "      <td>0</td>\n",
       "      <td>0</td>\n",
       "      <td>0</td>\n",
       "    </tr>\n",
       "  </tbody>\n",
       "</table>\n",
       "<p>5 rows × 785 columns</p>\n",
       "</div>"
      ],
      "text/plain": [
       "   label  pixel0  pixel1  pixel2  pixel3  pixel4  pixel5  pixel6  pixel7  \\\n",
       "0      1       0       0       0       0       0       0       0       0   \n",
       "1      0       0       0       0       0       0       0       0       0   \n",
       "2      1       0       0       0       0       0       0       0       0   \n",
       "3      4       0       0       0       0       0       0       0       0   \n",
       "4      0       0       0       0       0       0       0       0       0   \n",
       "\n",
       "   pixel8  ...  pixel774  pixel775  pixel776  pixel777  pixel778  pixel779  \\\n",
       "0       0  ...         0         0         0         0         0         0   \n",
       "1       0  ...         0         0         0         0         0         0   \n",
       "2       0  ...         0         0         0         0         0         0   \n",
       "3       0  ...         0         0         0         0         0         0   \n",
       "4       0  ...         0         0         0         0         0         0   \n",
       "\n",
       "   pixel780  pixel781  pixel782  pixel783  \n",
       "0         0         0         0         0  \n",
       "1         0         0         0         0  \n",
       "2         0         0         0         0  \n",
       "3         0         0         0         0  \n",
       "4         0         0         0         0  \n",
       "\n",
       "[5 rows x 785 columns]"
      ]
     },
     "execution_count": 3,
     "metadata": {},
     "output_type": "execute_result"
    }
   ],
   "source": [
    "train.head()"
   ]
  },
  {
   "cell_type": "markdown",
   "id": "10bb7b50",
   "metadata": {
    "id": "JKBpUDSohyQX",
    "papermill": {
     "duration": 0.029924,
     "end_time": "2022-04-06T15:03:59.907183",
     "exception": false,
     "start_time": "2022-04-06T15:03:59.877259",
     "status": "completed"
    },
    "tags": []
   },
   "source": [
    "#### Let's check how many examples do we have for each of the digit."
   ]
  },
  {
   "cell_type": "code",
   "execution_count": 4,
   "id": "b63177b5",
   "metadata": {
    "execution": {
     "iopub.execute_input": "2022-04-06T15:03:59.975287Z",
     "iopub.status.busy": "2022-04-06T15:03:59.974506Z",
     "iopub.status.idle": "2022-04-06T15:04:00.256567Z",
     "shell.execute_reply": "2022-04-06T15:04:00.255627Z"
    },
    "id": "zAk60Fwghtu4",
    "outputId": "0752999a-0920-49eb-ae1e-981a79b36d17",
    "papermill": {
     "duration": 0.318052,
     "end_time": "2022-04-06T15:04:00.256736",
     "exception": false,
     "start_time": "2022-04-06T15:03:59.938684",
     "status": "completed"
    },
    "tags": []
   },
   "outputs": [
    {
     "data": {
      "image/png": "[encoded data removed]",
      "text/plain": [
       "<Figure size 1440x720 with 1 Axes>"
      ]
     },
     "metadata": {
      "needs_background": "light"
     },
     "output_type": "display_data"
    }
   ],
   "source": [
    "plt.figure(figsize=(20,10))\n",
    "sb.countplot(train['label'])\n",
    "plt.show()"
   ]
  },
  {
   "cell_type": "markdown",
   "id": "c5719bb2",
   "metadata": {
    "id": "WbWY1nrAw3XR",
    "papermill": {
     "duration": 0.032062,
     "end_time": "2022-04-06T15:04:00.321187",
     "exception": false,
     "start_time": "2022-04-06T15:04:00.289125",
     "status": "completed"
    },
    "tags": []
   },
   "source": [
    "### Visualizing some of the examples from the given dataset."
   ]
  },
  {
   "cell_type": "code",
   "execution_count": 5,
   "id": "cb933c1b",
   "metadata": {
    "execution": {
     "iopub.execute_input": "2022-04-06T15:04:00.416522Z",
     "iopub.status.busy": "2022-04-06T15:04:00.412939Z",
     "iopub.status.idle": "2022-04-06T15:04:03.052027Z",
     "shell.execute_reply": "2022-04-06T15:04:03.052588Z"
    },
    "id": "t-IUlq0ww2ys",
    "outputId": "209cb9da-1991-4ec7-9b32-6baa544ec614",
    "papermill": {
     "duration": 2.697534,
     "end_time": "2022-04-06T15:04:03.052759",
     "exception": false,
     "start_time": "2022-04-06T15:04:00.355225",
     "status": "completed"
    },
    "tags": []
   },
   "outputs": [
    {
     "data": {
      "image/png": "[encoded data removed]",
      "text/plain": [
       "<Figure size 1080x360 with 24 Axes>"
      ]
     },
     "metadata": {
      "needs_background": "light"
     },
     "output_type": "display_data"
    }
   ],
   "source": [
    "plt.subplots(figsize=(15,5))\n",
    "\n",
    "for i in range(24):\n",
    "  plt.subplot(3,8,i+1)\n",
    "  k = np.random.randint(10000)\n",
    "  plt.imshow(train.loc[k][1:].values.reshape(28,28))\n",
    "  plt.title('Label ' + str(train.loc[k][0:1][0]))\n",
    "plt.tight_layout()\n",
    "plt.show()"
   ]
  },
  {
   "cell_type": "markdown",
   "id": "76366df2",
   "metadata": {
    "id": "86hxQhJxiQNE",
    "papermill": {
     "duration": 0.033886,
     "end_time": "2022-04-06T15:04:03.122461",
     "exception": false,
     "start_time": "2022-04-06T15:04:03.088575",
     "status": "completed"
    },
    "tags": []
   },
   "source": [
    "## Baseline\n",
    "Let's check what is the base line solution for the test data."
   ]
  },
  {
   "cell_type": "code",
   "execution_count": 6,
   "id": "46f287b9",
   "metadata": {
    "execution": {
     "iopub.execute_input": "2022-04-06T15:04:03.198120Z",
     "iopub.status.busy": "2022-04-06T15:04:03.197057Z",
     "iopub.status.idle": "2022-04-06T15:04:03.266639Z",
     "shell.execute_reply": "2022-04-06T15:04:03.265705Z"
    },
    "id": "jAQ0VtpAiCZ0",
    "outputId": "2f2d4409-8c60-4938-90d8-468eb2e915db",
    "papermill": {
     "duration": 0.108916,
     "end_time": "2022-04-06T15:04:03.266789",
     "exception": false,
     "start_time": "2022-04-06T15:04:03.157873",
     "status": "completed"
    },
    "tags": []
   },
   "outputs": [
    {
     "data": {
      "text/html": [
       "<div>\n",
       "<style scoped>\n",
       "    .dataframe tbody tr th:only-of-type {\n",
       "        vertical-align: middle;\n",
       "    }\n",
       "\n",
       "    .dataframe tbody tr th {\n",
       "        vertical-align: top;\n",
       "    }\n",
       "\n",
       "    .dataframe thead th {\n",
       "        text-align: right;\n",
       "    }\n",
       "</style>\n",
       "<table border=\"1\" class=\"dataframe\">\n",
       "  <thead>\n",
       "    <tr style=\"text-align: right;\">\n",
       "      <th></th>\n",
       "      <th>ImageId</th>\n",
       "      <th>Label</th>\n",
       "    </tr>\n",
       "  </thead>\n",
       "  <tbody>\n",
       "    <tr>\n",
       "      <th>0</th>\n",
       "      <td>1</td>\n",
       "      <td>4</td>\n",
       "    </tr>\n",
       "    <tr>\n",
       "      <th>1</th>\n",
       "      <td>2</td>\n",
       "      <td>4</td>\n",
       "    </tr>\n",
       "    <tr>\n",
       "      <th>2</th>\n",
       "      <td>3</td>\n",
       "      <td>4</td>\n",
       "    </tr>\n",
       "    <tr>\n",
       "      <th>3</th>\n",
       "      <td>4</td>\n",
       "      <td>4</td>\n",
       "    </tr>\n",
       "    <tr>\n",
       "      <th>4</th>\n",
       "      <td>5</td>\n",
       "      <td>4</td>\n",
       "    </tr>\n",
       "  </tbody>\n",
       "</table>\n",
       "</div>"
      ],
      "text/plain": [
       "   ImageId  Label\n",
       "0        1      4\n",
       "1        2      4\n",
       "2        3      4\n",
       "3        4      4\n",
       "4        5      4"
      ]
     },
     "execution_count": 6,
     "metadata": {},
     "output_type": "execute_result"
    }
   ],
   "source": [
    "ss = pd.read_csv('../input/digit-recognizer/sample_submission.csv')\n",
    "ss['Label'] = 4\n",
    "ss.to_csv('Submission.csv',index=False)\n",
    "ss.head()"
   ]
  },
  {
   "cell_type": "markdown",
   "id": "4172f339",
   "metadata": {
    "id": "hsobz7hqi8In",
    "papermill": {
     "duration": 0.035114,
     "end_time": "2022-04-06T15:04:03.337222",
     "exception": false,
     "start_time": "2022-04-06T15:04:03.302108",
     "status": "completed"
    },
    "tags": []
   },
   "source": [
    "* Hence, as expected we get the 10% accuracy on the categorization of the digits based on the pixel value.\n",
    "\n",
    "* So, 10% is our baseline accuracy."
   ]
  },
  {
   "cell_type": "markdown",
   "id": "5b061880",
   "metadata": {
    "id": "9PMYXn1ujTh4",
    "papermill": {
     "duration": 0.036479,
     "end_time": "2022-04-06T15:04:03.408674",
     "exception": false,
     "start_time": "2022-04-06T15:04:03.372195",
     "status": "completed"
    },
    "tags": []
   },
   "source": [
    "## Logistic Regression And SVM\n",
    "\n",
    "* First let's try to predict the digits using a logistic regression and an svm model.\n",
    "\n",
    "## Neural Network\n",
    "* Secondly we will try to build Neural Network classifier to learn complex non-linear function which can fit our function even better without overfitting in keras."
   ]
  },
  {
   "cell_type": "code",
   "execution_count": 7,
   "id": "f8d3842d",
   "metadata": {
    "execution": {
     "iopub.execute_input": "2022-04-06T15:04:03.594043Z",
     "iopub.status.busy": "2022-04-06T15:04:03.592819Z",
     "iopub.status.idle": "2022-04-06T15:04:04.499824Z",
     "shell.execute_reply": "2022-04-06T15:04:04.498844Z"
    },
    "id": "sZrGSmVbmW64",
    "papermill": {
     "duration": 1.055842,
     "end_time": "2022-04-06T15:04:04.500005",
     "exception": false,
     "start_time": "2022-04-06T15:04:03.444163",
     "status": "completed"
    },
    "tags": []
   },
   "outputs": [],
   "source": [
    "features = train.drop(['label'],axis=1)\n",
    "target = train['label']\n",
    "\n",
    "X_train, X_val, Y_train, Y_val = train_test_split(features, target, test_size=0.05, random_state=10)\n",
    "\n",
    "scaler = StandardScaler()\n",
    "X_train = scaler.fit_transform(X_train)\n",
    "X_val = scaler.transform(X_val)\n"
   ]
  },
  {
   "cell_type": "code",
   "execution_count": 8,
   "id": "1b5c56dd",
   "metadata": {
    "execution": {
     "iopub.execute_input": "2022-04-06T15:04:04.580682Z",
     "iopub.status.busy": "2022-04-06T15:04:04.579532Z",
     "iopub.status.idle": "2022-04-06T15:04:33.871574Z",
     "shell.execute_reply": "2022-04-06T15:04:33.872711Z"
    },
    "id": "R6CyxY0Fidm8",
    "outputId": "ee268098-26cd-4f1e-8ccf-7e2c7719f07e",
    "papermill": {
     "duration": 29.335449,
     "end_time": "2022-04-06T15:04:33.873060",
     "exception": false,
     "start_time": "2022-04-06T15:04:04.537611",
     "status": "completed"
    },
    "tags": []
   },
   "outputs": [
    {
     "name": "stdout",
     "output_type": "stream",
     "text": [
      "Logistic Regression:\n",
      "Training Accuracy :  0.9511779448621553\n",
      "Validation Accuracy :  0.9176190476190477\n"
     ]
    }
   ],
   "source": [
    "model_log = LogisticRegression()\n",
    "model_log.fit(X_train, Y_train)\n",
    "print('Logistic Regression:')\n",
    "Y_pred = model_log.predict(X_train)\n",
    "print('Training Accuracy : ',metrics.accuracy_score(Y_train, Y_pred))\n",
    "\n",
    "Y_pred = model_log.predict(X_val)\n",
    "print('Validation Accuracy : ',metrics.accuracy_score(Y_val, Y_pred))"
   ]
  },
  {
   "cell_type": "code",
   "execution_count": 9,
   "id": "085cb822",
   "metadata": {
    "execution": {
     "iopub.execute_input": "2022-04-06T15:04:34.011214Z",
     "iopub.status.busy": "2022-04-06T15:04:34.009983Z",
     "iopub.status.idle": "2022-04-06T15:08:56.942686Z",
     "shell.execute_reply": "2022-04-06T15:08:56.941739Z"
    },
    "id": "etDGH-sEnHt7",
    "outputId": "105e22df-e84b-4ad8-f342-bdaaadeeb2f7",
    "papermill": {
     "duration": 263.0,
     "end_time": "2022-04-06T15:08:56.942838",
     "exception": false,
     "start_time": "2022-04-06T15:04:33.942838",
     "status": "completed"
    },
    "tags": []
   },
   "outputs": [
    {
     "name": "stdout",
     "output_type": "stream",
     "text": [
      "Support Vector Machine:\n",
      "Training Accuracy :  0.9891979949874686\n",
      "Validation Accuracy :  0.9233333333333333\n",
      "\n"
     ]
    }
   ],
   "source": [
    "model_svm = svm.SVC(kernel=\"linear\")\n",
    "\n",
    "model_svm.fit(X_train, Y_train)\n",
    "print('Support Vector Machine:')\n",
    "Y_pred = model_svm.predict(X_train)\n",
    "print('Training Accuracy : ',metrics.accuracy_score(Y_train, Y_pred))\n",
    "\n",
    "Y_pred = model_svm.predict(X_val)\n",
    "print('Validation Accuracy : ',metrics.accuracy_score(Y_val, Y_pred))\n",
    "print()"
   ]
  },
  {
   "cell_type": "markdown",
   "id": "3c0aa402",
   "metadata": {
    "id": "9GYUMJ2zpAqJ",
    "papermill": {
     "duration": 0.038954,
     "end_time": "2022-04-06T15:08:57.022275",
     "exception": false,
     "start_time": "2022-04-06T15:08:56.983321",
     "status": "completed"
    },
    "tags": []
   },
   "source": [
    "* #### We are able to get an acuuracy rate of 91% using Logistic regression model.\n",
    "* #### SVM gives an accuracy rate of 92% which is an improvement from Logistic regression but SVM is overfitting on the training data we can observe from the training and the validation accuracy difference."
   ]
  },
  {
   "cell_type": "markdown",
   "id": "a240ae4d",
   "metadata": {
    "id": "uZGbrCU1xAjC",
    "papermill": {
     "duration": 0.037996,
     "end_time": "2022-04-06T15:08:57.098525",
     "exception": false,
     "start_time": "2022-04-06T15:08:57.060529",
     "status": "completed"
    },
    "tags": []
   },
   "source": [
    "### Neural Network: For digit classification."
   ]
  },
  {
   "cell_type": "code",
   "execution_count": 10,
   "id": "4416f24b",
   "metadata": {
    "execution": {
     "iopub.execute_input": "2022-04-06T15:08:57.182865Z",
     "iopub.status.busy": "2022-04-06T15:08:57.182247Z",
     "iopub.status.idle": "2022-04-06T15:09:06.299827Z",
     "shell.execute_reply": "2022-04-06T15:09:06.300604Z"
    },
    "id": "bnpYL6A7siS0",
    "papermill": {
     "duration": 9.164458,
     "end_time": "2022-04-06T15:09:06.300872",
     "exception": false,
     "start_time": "2022-04-06T15:08:57.136414",
     "status": "completed"
    },
    "tags": []
   },
   "outputs": [
    {
     "name": "stderr",
     "output_type": "stream",
     "text": [
      "2022-04-06 15:09:03.338060: I tensorflow/stream_executor/cuda/cuda_gpu_executor.cc:937] successful NUMA node read from SysFS had negative value (-1), but there must be at least one NUMA node, so returning NUMA node zero\n",
      "2022-04-06 15:09:03.467718: I tensorflow/stream_executor/cuda/cuda_gpu_executor.cc:937] successful NUMA node read from SysFS had negative value (-1), but there must be at least one NUMA node, so returning NUMA node zero\n",
      "2022-04-06 15:09:03.468872: I tensorflow/stream_executor/cuda/cuda_gpu_executor.cc:937] successful NUMA node read from SysFS had negative value (-1), but there must be at least one NUMA node, so returning NUMA node zero\n",
      "2022-04-06 15:09:03.470491: I tensorflow/core/platform/cpu_feature_guard.cc:142] This TensorFlow binary is optimized with oneAPI Deep Neural Network Library (oneDNN) to use the following CPU instructions in performance-critical operations:  AVX2 FMA\n",
      "To enable them in other operations, rebuild TensorFlow with the appropriate compiler flags.\n",
      "2022-04-06 15:09:03.471496: I tensorflow/stream_executor/cuda/cuda_gpu_executor.cc:937] successful NUMA node read from SysFS had negative value (-1), but there must be at least one NUMA node, so returning NUMA node zero\n",
      "2022-04-06 15:09:03.472591: I tensorflow/stream_executor/cuda/cuda_gpu_executor.cc:937] successful NUMA node read from SysFS had negative value (-1), but there must be at least one NUMA node, so returning NUMA node zero\n",
      "2022-04-06 15:09:03.473692: I tensorflow/stream_executor/cuda/cuda_gpu_executor.cc:937] successful NUMA node read from SysFS had negative value (-1), but there must be at least one NUMA node, so returning NUMA node zero\n",
      "2022-04-06 15:09:05.856473: I tensorflow/stream_executor/cuda/cuda_gpu_executor.cc:937] successful NUMA node read from SysFS had negative value (-1), but there must be at least one NUMA node, so returning NUMA node zero\n",
      "2022-04-06 15:09:05.857764: I tensorflow/stream_executor/cuda/cuda_gpu_executor.cc:937] successful NUMA node read from SysFS had negative value (-1), but there must be at least one NUMA node, so returning NUMA node zero\n",
      "2022-04-06 15:09:05.858789: I tensorflow/stream_executor/cuda/cuda_gpu_executor.cc:937] successful NUMA node read from SysFS had negative value (-1), but there must be at least one NUMA node, so returning NUMA node zero\n",
      "2022-04-06 15:09:05.859771: I tensorflow/core/common_runtime/gpu/gpu_device.cc:1510] Created device /job:localhost/replica:0/task:0/device:GPU:0 with 15403 MB memory:  -> device: 0, name: Tesla P100-PCIE-16GB, pci bus id: 0000:00:04.0, compute capability: 6.0\n"
     ]
    }
   ],
   "source": [
    "import tensorflow as tf\n",
    "from tensorflow import keras\n",
    "from keras import layers\n",
    "\n",
    "model_nn = keras.Sequential([\n",
    "      layers.Dense(256, activation='relu',input_shape=[784]),\n",
    "      layers.BatchNormalization(),\n",
    "      layers.Dense(256, activation='relu'),\n",
    "      layers.Dropout(0.3),\n",
    "      layers.BatchNormalization(),\n",
    "      layers.Dense(10, activation='softmax')\n",
    "])\n",
    "\n",
    "model_nn.compile(\n",
    "    loss='sparse_categorical_crossentropy',\n",
    "    optimizer='adam',\n",
    "    metrics=['sparse_categorical_accuracy']\n",
    ")"
   ]
  },
  {
   "cell_type": "code",
   "execution_count": 11,
   "id": "2dedfef7",
   "metadata": {
    "execution": {
     "iopub.execute_input": "2022-04-06T15:09:06.389945Z",
     "iopub.status.busy": "2022-04-06T15:09:06.387653Z",
     "iopub.status.idle": "2022-04-06T15:09:06.395531Z",
     "shell.execute_reply": "2022-04-06T15:09:06.396016Z"
    },
    "id": "e-KiJW9F5Ymy",
    "outputId": "a052b615-d39e-4d26-f3bd-d93351ef8377",
    "papermill": {
     "duration": 0.054879,
     "end_time": "2022-04-06T15:09:06.396202",
     "exception": false,
     "start_time": "2022-04-06T15:09:06.341323",
     "status": "completed"
    },
    "tags": []
   },
   "outputs": [
    {
     "name": "stdout",
     "output_type": "stream",
     "text": [
      "Model: \"sequential\"\n",
      "_________________________________________________________________\n",
      "Layer (type)                 Output Shape              Param #   \n",
      "=================================================================\n",
      "dense (Dense)                (None, 256)               200960    \n",
      "_________________________________________________________________\n",
      "batch_normalization (BatchNo (None, 256)               1024      \n",
      "_________________________________________________________________\n",
      "dense_1 (Dense)              (None, 256)               65792     \n",
      "_________________________________________________________________\n",
      "dropout (Dropout)            (None, 256)               0         \n",
      "_________________________________________________________________\n",
      "batch_normalization_1 (Batch (None, 256)               1024      \n",
      "_________________________________________________________________\n",
      "dense_2 (Dense)              (None, 10)                2570      \n",
      "=================================================================\n",
      "Total params: 271,370\n",
      "Trainable params: 270,346\n",
      "Non-trainable params: 1,024\n",
      "_________________________________________________________________\n"
     ]
    }
   ],
   "source": [
    "model_nn.summary()"
   ]
  },
  {
   "cell_type": "code",
   "execution_count": 12,
   "id": "20289b8f",
   "metadata": {
    "execution": {
     "iopub.execute_input": "2022-04-06T15:09:06.480610Z",
     "iopub.status.busy": "2022-04-06T15:09:06.479645Z",
     "iopub.status.idle": "2022-04-06T15:09:48.731116Z",
     "shell.execute_reply": "2022-04-06T15:09:48.730308Z"
    },
    "id": "8xWIdZrozU4m",
    "outputId": "ae258ff0-d32f-4130-ee34-86845e59d8d3",
    "papermill": {
     "duration": 42.295616,
     "end_time": "2022-04-06T15:09:48.731302",
     "exception": false,
     "start_time": "2022-04-06T15:09:06.435686",
     "status": "completed"
    },
    "tags": []
   },
   "outputs": [
    {
     "name": "stderr",
     "output_type": "stream",
     "text": [
      "2022-04-06 15:09:06.882925: I tensorflow/compiler/mlir/mlir_graph_optimization_pass.cc:185] None of the MLIR Optimization Passes are enabled (registered 2)\n"
     ]
    },
    {
     "name": "stdout",
     "output_type": "stream",
     "text": [
      "Epoch 1/5\n",
      "1247/1247 [==============================] - 8s 5ms/step - loss: 0.3079 - sparse_categorical_accuracy: 0.9064 - val_loss: 0.1363 - val_sparse_categorical_accuracy: 0.9595\n",
      "Epoch 2/5\n",
      "1247/1247 [==============================] - 5s 4ms/step - loss: 0.1530 - sparse_categorical_accuracy: 0.9531 - val_loss: 0.1120 - val_sparse_categorical_accuracy: 0.9667\n",
      "Epoch 3/5\n",
      "1247/1247 [==============================] - 6s 5ms/step - loss: 0.1111 - sparse_categorical_accuracy: 0.9646 - val_loss: 0.1258 - val_sparse_categorical_accuracy: 0.9629\n",
      "Epoch 4/5\n",
      "1247/1247 [==============================] - 6s 5ms/step - loss: 0.0918 - sparse_categorical_accuracy: 0.9702 - val_loss: 0.1045 - val_sparse_categorical_accuracy: 0.9662\n",
      "Epoch 5/5\n",
      "1247/1247 [==============================] - 6s 5ms/step - loss: 0.0796 - sparse_categorical_accuracy: 0.9735 - val_loss: 0.0963 - val_sparse_categorical_accuracy: 0.9719\n"
     ]
    }
   ],
   "source": [
    "history = model_nn.fit(X_train, Y_train,\n",
    "                    epochs = 5,\n",
    "                    validation_data = (X_val, Y_val))"
   ]
  },
  {
   "cell_type": "code",
   "execution_count": 13,
   "id": "894a56ab",
   "metadata": {
    "execution": {
     "iopub.execute_input": "2022-04-06T15:09:49.260683Z",
     "iopub.status.busy": "2022-04-06T15:09:49.260077Z",
     "iopub.status.idle": "2022-04-06T15:09:49.725813Z",
     "shell.execute_reply": "2022-04-06T15:09:49.725330Z"
    },
    "id": "YDzcwIlzzV9c",
    "outputId": "10e2d65d-b83e-483e-edf5-ac10633e1f97",
    "papermill": {
     "duration": 0.73357,
     "end_time": "2022-04-06T15:09:49.726004",
     "exception": false,
     "start_time": "2022-04-06T15:09:48.992434",
     "status": "completed"
    },
    "tags": []
   },
   "outputs": [
    {
     "data": {
      "image/png": "[encoded data removed]",
      "text/plain": [
       "<Figure size 432x288 with 1 Axes>"
      ]
     },
     "metadata": {
      "needs_background": "light"
     },
     "output_type": "display_data"
    },
    {
     "data": {
      "image/png": "[encoded data removed]",
      "text/plain": [
       "<Figure size 432x288 with 1 Axes>"
      ]
     },
     "metadata": {
      "needs_background": "light"
     },
     "output_type": "display_data"
    }
   ],
   "source": [
    "history_df = pd.DataFrame(history.history)\n",
    "history_df.loc[:,['loss','val_loss']].plot()\n",
    "history_df.loc[:,['sparse_categorical_accuracy','val_sparse_categorical_accuracy']].plot()\n",
    "plt.show()"
   ]
  },
  {
   "cell_type": "markdown",
   "id": "428203df",
   "metadata": {
    "id": "ZLMD_tImzJLn",
    "papermill": {
     "duration": 0.265241,
     "end_time": "2022-04-06T15:09:50.253793",
     "exception": false,
     "start_time": "2022-04-06T15:09:49.988552",
     "status": "completed"
    },
    "tags": []
   },
   "source": [
    "### So, here we can observe that the neural network classify the digits with an accuracy rate of 98% and it isn't overfitting the training data which is visible from the learning curves."
   ]
  },
  {
   "cell_type": "code",
   "execution_count": 14,
   "id": "bc3a081a",
   "metadata": {
    "execution": {
     "iopub.execute_input": "2022-04-06T15:09:50.783846Z",
     "iopub.status.busy": "2022-04-06T15:09:50.783104Z",
     "iopub.status.idle": "2022-04-06T15:09:53.449277Z",
     "shell.execute_reply": "2022-04-06T15:09:53.448667Z"
    },
    "id": "NRzevLxj0rFr",
    "papermill": {
     "duration": 2.936843,
     "end_time": "2022-04-06T15:09:53.449427",
     "exception": false,
     "start_time": "2022-04-06T15:09:50.512584",
     "status": "completed"
    },
    "tags": []
   },
   "outputs": [],
   "source": [
    "test = pd.read_csv('../input/digit-recognizer/test.csv')\n",
    "test = scaler.transform(test)"
   ]
  },
  {
   "cell_type": "code",
   "execution_count": 15,
   "id": "57c66188",
   "metadata": {
    "execution": {
     "iopub.execute_input": "2022-04-06T15:09:53.989166Z",
     "iopub.status.busy": "2022-04-06T15:09:53.988043Z",
     "iopub.status.idle": "2022-04-06T15:09:55.657653Z",
     "shell.execute_reply": "2022-04-06T15:09:55.658171Z"
    },
    "id": "C49eImlb5BZq",
    "outputId": "d4935b3c-2aed-491e-be6f-0a19b29fb118",
    "papermill": {
     "duration": 1.942634,
     "end_time": "2022-04-06T15:09:55.658340",
     "exception": false,
     "start_time": "2022-04-06T15:09:53.715706",
     "status": "completed"
    },
    "tags": []
   },
   "outputs": [
    {
     "data": {
      "text/html": [
       "<div>\n",
       "<style scoped>\n",
       "    .dataframe tbody tr th:only-of-type {\n",
       "        vertical-align: middle;\n",
       "    }\n",
       "\n",
       "    .dataframe tbody tr th {\n",
       "        vertical-align: top;\n",
       "    }\n",
       "\n",
       "    .dataframe thead th {\n",
       "        text-align: right;\n",
       "    }\n",
       "</style>\n",
       "<table border=\"1\" class=\"dataframe\">\n",
       "  <thead>\n",
       "    <tr style=\"text-align: right;\">\n",
       "      <th></th>\n",
       "      <th>ImageId</th>\n",
       "      <th>Label</th>\n",
       "    </tr>\n",
       "  </thead>\n",
       "  <tbody>\n",
       "    <tr>\n",
       "      <th>0</th>\n",
       "      <td>1</td>\n",
       "      <td>2</td>\n",
       "    </tr>\n",
       "    <tr>\n",
       "      <th>1</th>\n",
       "      <td>2</td>\n",
       "      <td>0</td>\n",
       "    </tr>\n",
       "    <tr>\n",
       "      <th>2</th>\n",
       "      <td>3</td>\n",
       "      <td>9</td>\n",
       "    </tr>\n",
       "    <tr>\n",
       "      <th>3</th>\n",
       "      <td>4</td>\n",
       "      <td>9</td>\n",
       "    </tr>\n",
       "    <tr>\n",
       "      <th>4</th>\n",
       "      <td>5</td>\n",
       "      <td>3</td>\n",
       "    </tr>\n",
       "  </tbody>\n",
       "</table>\n",
       "</div>"
      ],
      "text/plain": [
       "   ImageId  Label\n",
       "0        1      2\n",
       "1        2      0\n",
       "2        3      9\n",
       "3        4      9\n",
       "4        5      3"
      ]
     },
     "execution_count": 15,
     "metadata": {},
     "output_type": "execute_result"
    }
   ],
   "source": [
    "ss['Label'] = np.argmax(model_nn.predict(test), axis=1)\n",
    "ss.to_csv('Submission_NN.csv',index=False)\n",
    "ss.head()"
   ]
  },
  {
   "cell_type": "markdown",
   "id": "5676058d",
   "metadata": {
    "id": "TFfHuRu7KOLl",
    "papermill": {
     "duration": 0.265428,
     "end_time": "2022-04-06T15:09:56.190098",
     "exception": false,
     "start_time": "2022-04-06T15:09:55.924670",
     "status": "completed"
    },
    "tags": []
   },
   "source": [
    "## Why not to try Convolutional Neural network as well?"
   ]
  },
  {
   "cell_type": "code",
   "execution_count": 16,
   "id": "af969d7e",
   "metadata": {
    "execution": {
     "iopub.execute_input": "2022-04-06T15:09:56.949848Z",
     "iopub.status.busy": "2022-04-06T15:09:56.948764Z",
     "iopub.status.idle": "2022-04-06T15:09:56.951445Z",
     "shell.execute_reply": "2022-04-06T15:09:56.950682Z"
    },
    "id": "wR5iulTqKmLk",
    "papermill": {
     "duration": 0.487405,
     "end_time": "2022-04-06T15:09:56.951642",
     "exception": false,
     "start_time": "2022-04-06T15:09:56.464237",
     "status": "completed"
    },
    "tags": []
   },
   "outputs": [],
   "source": [
    "X_train = X_train.reshape((39900,28,28,1))\n",
    "X_val = X_val.reshape((2100,28,28,1))"
   ]
  },
  {
   "cell_type": "code",
   "execution_count": 17,
   "id": "3dd57cc5",
   "metadata": {
    "execution": {
     "iopub.execute_input": "2022-04-06T15:09:58.265831Z",
     "iopub.status.busy": "2022-04-06T15:09:58.264698Z",
     "iopub.status.idle": "2022-04-06T15:09:58.374434Z",
     "shell.execute_reply": "2022-04-06T15:09:58.373512Z"
    },
    "id": "T-xOGN8JJ6z3",
    "papermill": {
     "duration": 0.78492,
     "end_time": "2022-04-06T15:09:58.374597",
     "exception": false,
     "start_time": "2022-04-06T15:09:57.589677",
     "status": "completed"
    },
    "tags": []
   },
   "outputs": [],
   "source": [
    "model_cnn = tf.keras.models.Sequential([\n",
    "                                    layers.Conv2D(16,(3,3),activation='relu',input_shape=(28,28,1),padding='same'),\n",
    "                                    layers.Conv2D(32,(3,3),activation='relu',padding='same'),\n",
    "                                    layers.Conv2D(64,(3,3),activation='relu',padding='same'),\n",
    "                                    layers.MaxPooling2D(2,2),\n",
    "                                    layers.Conv2D(128,(3,3),activation='relu',padding='same'),\n",
    "                                    \n",
    "\n",
    "                                    layers.Flatten(),\n",
    "                                    layers.Dense(512,activation='relu'),\n",
    "                                    layers.BatchNormalization(),\n",
    "                                    layers.Dense(256,activation='relu'),\n",
    "                                    layers.Dropout(0.3),\n",
    "                                    layers.BatchNormalization(),\n",
    "                                    layers.Dense(10,activation='softmax')\n",
    "])"
   ]
  },
  {
   "cell_type": "code",
   "execution_count": 18,
   "id": "41aaf72f",
   "metadata": {
    "execution": {
     "iopub.execute_input": "2022-04-06T15:09:58.924787Z",
     "iopub.status.busy": "2022-04-06T15:09:58.923113Z",
     "iopub.status.idle": "2022-04-06T15:09:58.938337Z",
     "shell.execute_reply": "2022-04-06T15:09:58.938846Z"
    },
    "id": "gCmWHhNCK7Y4",
    "outputId": "fc7f59ea-d2cc-4738-c21e-3dd2fc5341dc",
    "papermill": {
     "duration": 0.290005,
     "end_time": "2022-04-06T15:09:58.939129",
     "exception": false,
     "start_time": "2022-04-06T15:09:58.649124",
     "status": "completed"
    },
    "tags": []
   },
   "outputs": [
    {
     "name": "stdout",
     "output_type": "stream",
     "text": [
      "Model: \"sequential_1\"\n",
      "_________________________________________________________________\n",
      "Layer (type)                 Output Shape              Param #   \n",
      "=================================================================\n",
      "conv2d (Conv2D)              (None, 28, 28, 16)        160       \n",
      "_________________________________________________________________\n",
      "conv2d_1 (Conv2D)            (None, 28, 28, 32)        4640      \n",
      "_________________________________________________________________\n",
      "conv2d_2 (Conv2D)            (None, 28, 28, 64)        18496     \n",
      "_________________________________________________________________\n",
      "max_pooling2d (MaxPooling2D) (None, 14, 14, 64)        0         \n",
      "_________________________________________________________________\n",
      "conv2d_3 (Conv2D)            (None, 14, 14, 128)       73856     \n",
      "_________________________________________________________________\n",
      "flatten (Flatten)            (None, 25088)             0         \n",
      "_________________________________________________________________\n",
      "dense_3 (Dense)              (None, 512)               12845568  \n",
      "_________________________________________________________________\n",
      "batch_normalization_2 (Batch (None, 512)               2048      \n",
      "_________________________________________________________________\n",
      "dense_4 (Dense)              (None, 256)               131328    \n",
      "_________________________________________________________________\n",
      "dropout_1 (Dropout)          (None, 256)               0         \n",
      "_________________________________________________________________\n",
      "batch_normalization_3 (Batch (None, 256)               1024      \n",
      "_________________________________________________________________\n",
      "dense_5 (Dense)              (None, 10)                2570      \n",
      "=================================================================\n",
      "Total params: 13,079,690\n",
      "Trainable params: 13,078,154\n",
      "Non-trainable params: 1,536\n",
      "_________________________________________________________________\n"
     ]
    }
   ],
   "source": [
    "model_cnn.summary()"
   ]
  },
  {
   "cell_type": "code",
   "execution_count": 19,
   "id": "0ad8bdf1",
   "metadata": {
    "execution": {
     "iopub.execute_input": "2022-04-06T15:09:59.482869Z",
     "iopub.status.busy": "2022-04-06T15:09:59.481774Z",
     "iopub.status.idle": "2022-04-06T15:09:59.487856Z",
     "shell.execute_reply": "2022-04-06T15:09:59.487333Z"
    },
    "id": "8sDzjYsXLBsX",
    "papermill": {
     "duration": 0.281777,
     "end_time": "2022-04-06T15:09:59.488036",
     "exception": false,
     "start_time": "2022-04-06T15:09:59.206259",
     "status": "completed"
    },
    "tags": []
   },
   "outputs": [],
   "source": [
    "model_cnn.compile(\n",
    "    loss='sparse_categorical_crossentropy',\n",
    "    optimizer='adam',\n",
    "    metrics=['sparse_categorical_accuracy']\n",
    ")"
   ]
  },
  {
   "cell_type": "code",
   "execution_count": 20,
   "id": "fba90313",
   "metadata": {
    "execution": {
     "iopub.execute_input": "2022-04-06T15:10:00.017420Z",
     "iopub.status.busy": "2022-04-06T15:10:00.016438Z",
     "iopub.status.idle": "2022-04-06T15:10:55.263856Z",
     "shell.execute_reply": "2022-04-06T15:10:55.263108Z"
    },
    "id": "yHzPeD_HLKA6",
    "outputId": "6d8a83b3-972d-45fc-dc5b-9454dd853ab1",
    "papermill": {
     "duration": 55.513561,
     "end_time": "2022-04-06T15:10:55.264038",
     "exception": false,
     "start_time": "2022-04-06T15:09:59.750477",
     "status": "completed"
    },
    "tags": []
   },
   "outputs": [
    {
     "name": "stdout",
     "output_type": "stream",
     "text": [
      "Epoch 1/5\n"
     ]
    },
    {
     "name": "stderr",
     "output_type": "stream",
     "text": [
      "2022-04-06 15:10:02.199741: I tensorflow/stream_executor/cuda/cuda_dnn.cc:369] Loaded cuDNN version 8005\n"
     ]
    },
    {
     "name": "stdout",
     "output_type": "stream",
     "text": [
      "1247/1247 [==============================] - 16s 8ms/step - loss: 0.1404 - sparse_categorical_accuracy: 0.9565 - val_loss: 0.0639 - val_sparse_categorical_accuracy: 0.9810\n",
      "Epoch 2/5\n",
      "1247/1247 [==============================] - 9s 7ms/step - loss: 0.0573 - sparse_categorical_accuracy: 0.9826 - val_loss: 0.0420 - val_sparse_categorical_accuracy: 0.9867\n",
      "Epoch 3/5\n",
      "1247/1247 [==============================] - 10s 8ms/step - loss: 0.0453 - sparse_categorical_accuracy: 0.9862 - val_loss: 0.0469 - val_sparse_categorical_accuracy: 0.9876\n",
      "Epoch 4/5\n",
      "1247/1247 [==============================] - 9s 8ms/step - loss: 0.0336 - sparse_categorical_accuracy: 0.9897 - val_loss: 0.0488 - val_sparse_categorical_accuracy: 0.9890\n",
      "Epoch 5/5\n",
      "1247/1247 [==============================] - 9s 8ms/step - loss: 0.0266 - sparse_categorical_accuracy: 0.9921 - val_loss: 0.0606 - val_sparse_categorical_accuracy: 0.9857\n"
     ]
    }
   ],
   "source": [
    "hist = model_cnn.fit(X_train, Y_train,\n",
    "                 epochs=5,\n",
    "                 validation_data=(X_val.reshape(2100,28,28,1),Y_val)\n",
    "                 )"
   ]
  },
  {
   "cell_type": "code",
   "execution_count": 21,
   "id": "587bca50",
   "metadata": {
    "execution": {
     "iopub.execute_input": "2022-04-06T15:10:56.538545Z",
     "iopub.status.busy": "2022-04-06T15:10:56.537380Z",
     "iopub.status.idle": "2022-04-06T15:10:56.962339Z",
     "shell.execute_reply": "2022-04-06T15:10:56.961713Z"
    },
    "id": "6cDp2wV7LaMk",
    "outputId": "7d43ad50-1a22-40af-8c44-a2eb062a91cc",
    "papermill": {
     "duration": 1.072332,
     "end_time": "2022-04-06T15:10:56.962500",
     "exception": false,
     "start_time": "2022-04-06T15:10:55.890168",
     "status": "completed"
    },
    "tags": []
   },
   "outputs": [
    {
     "data": {
      "image/png": "[encoded data removed]",
      "text/plain": [
       "<Figure size 432x288 with 1 Axes>"
      ]
     },
     "metadata": {
      "needs_background": "light"
     },
     "output_type": "display_data"
    },
    {
     "data": {
      "image/png": "[encoded data removed]",
      "text/plain": [
       "<Figure size 432x288 with 1 Axes>"
      ]
     },
     "metadata": {
      "needs_background": "light"
     },
     "output_type": "display_data"
    }
   ],
   "source": [
    "history_df = pd.DataFrame(history.history)\n",
    "history_df.loc[:,['loss','val_loss']].plot()\n",
    "history_df.loc[:,['sparse_categorical_accuracy','val_sparse_categorical_accuracy']].plot()\n",
    "plt.show()"
   ]
  },
  {
   "cell_type": "markdown",
   "id": "48ec2fea",
   "metadata": {
    "id": "IA5Ir0K3MFLv",
    "papermill": {
     "duration": 0.625371,
     "end_time": "2022-04-06T15:10:58.211034",
     "exception": false,
     "start_time": "2022-04-06T15:10:57.585663",
     "status": "completed"
    },
    "tags": []
   },
   "source": [
    "#### So, this is the power of CNN accuracy has been shot up to 99% without overfitting the data."
   ]
  },
  {
   "cell_type": "code",
   "execution_count": 22,
   "id": "2d003ca2",
   "metadata": {
    "execution": {
     "iopub.execute_input": "2022-04-06T15:10:59.464380Z",
     "iopub.status.busy": "2022-04-06T15:10:59.463193Z",
     "iopub.status.idle": "2022-04-06T15:11:02.440777Z",
     "shell.execute_reply": "2022-04-06T15:11:02.442092Z"
    },
    "id": "E2aCihNzMEAu",
    "outputId": "07818943-4cdc-455f-8aad-d860a63ff96a",
    "papermill": {
     "duration": 3.608918,
     "end_time": "2022-04-06T15:11:02.442342",
     "exception": false,
     "start_time": "2022-04-06T15:10:58.833424",
     "status": "completed"
    },
    "tags": []
   },
   "outputs": [
    {
     "data": {
      "text/html": [
       "<div>\n",
       "<style scoped>\n",
       "    .dataframe tbody tr th:only-of-type {\n",
       "        vertical-align: middle;\n",
       "    }\n",
       "\n",
       "    .dataframe tbody tr th {\n",
       "        vertical-align: top;\n",
       "    }\n",
       "\n",
       "    .dataframe thead th {\n",
       "        text-align: right;\n",
       "    }\n",
       "</style>\n",
       "<table border=\"1\" class=\"dataframe\">\n",
       "  <thead>\n",
       "    <tr style=\"text-align: right;\">\n",
       "      <th></th>\n",
       "      <th>ImageId</th>\n",
       "      <th>Label</th>\n",
       "    </tr>\n",
       "  </thead>\n",
       "  <tbody>\n",
       "    <tr>\n",
       "      <th>0</th>\n",
       "      <td>1</td>\n",
       "      <td>2</td>\n",
       "    </tr>\n",
       "    <tr>\n",
       "      <th>1</th>\n",
       "      <td>2</td>\n",
       "      <td>0</td>\n",
       "    </tr>\n",
       "    <tr>\n",
       "      <th>2</th>\n",
       "      <td>3</td>\n",
       "      <td>9</td>\n",
       "    </tr>\n",
       "    <tr>\n",
       "      <th>3</th>\n",
       "      <td>4</td>\n",
       "      <td>9</td>\n",
       "    </tr>\n",
       "    <tr>\n",
       "      <th>4</th>\n",
       "      <td>5</td>\n",
       "      <td>3</td>\n",
       "    </tr>\n",
       "  </tbody>\n",
       "</table>\n",
       "</div>"
      ],
      "text/plain": [
       "   ImageId  Label\n",
       "0        1      2\n",
       "1        2      0\n",
       "2        3      9\n",
       "3        4      9\n",
       "4        5      3"
      ]
     },
     "execution_count": 22,
     "metadata": {},
     "output_type": "execute_result"
    }
   ],
   "source": [
    "ss['Label'] = np.argmax(model_cnn.predict(test.reshape((28000,28,28,1))), axis=1)\n",
    "ss.to_csv('Submission_CNN.csv',index=False)\n",
    "ss.head()"
   ]
  },
  {
   "cell_type": "markdown",
   "id": "26bcdc71",
   "metadata": {
    "id": "ZCWowxbBPriF",
    "papermill": {
     "duration": 0.760286,
     "end_time": "2022-04-06T15:11:04.662567",
     "exception": false,
     "start_time": "2022-04-06T15:11:03.902281",
     "status": "completed"
    },
    "tags": []
   },
   "source": [
    "## Visualizing convolutions"
   ]
  },
  {
   "cell_type": "code",
   "execution_count": 23,
   "id": "09b92eb9",
   "metadata": {
    "execution": {
     "iopub.execute_input": "2022-04-06T15:11:06.101412Z",
     "iopub.status.busy": "2022-04-06T15:11:06.100504Z",
     "iopub.status.idle": "2022-04-06T15:11:06.108510Z",
     "shell.execute_reply": "2022-04-06T15:11:06.109064Z"
    },
    "id": "n1BxbLaXPwCd",
    "papermill": {
     "duration": 0.728426,
     "end_time": "2022-04-06T15:11:06.109210",
     "exception": false,
     "start_time": "2022-04-06T15:11:05.380784",
     "status": "completed"
    },
    "tags": []
   },
   "outputs": [],
   "source": [
    "layer_outputs = [layer.output for layer in model_cnn.layers]\n",
    "activation_model = keras.models.Model(inputs = model_cnn.input, outputs=layer_outputs)"
   ]
  },
  {
   "cell_type": "code",
   "execution_count": 24,
   "id": "f542f8cf",
   "metadata": {
    "execution": {
     "iopub.execute_input": "2022-04-06T15:11:07.391129Z",
     "iopub.status.busy": "2022-04-06T15:11:07.389050Z",
     "iopub.status.idle": "2022-04-06T15:11:11.746394Z",
     "shell.execute_reply": "2022-04-06T15:11:11.747133Z"
    },
    "id": "Gb5NmrxfQQ20",
    "outputId": "ccddb7f9-c328-4e15-cbd5-bd10f6b42c64",
    "papermill": {
     "duration": 4.985002,
     "end_time": "2022-04-06T15:11:11.747342",
     "exception": false,
     "start_time": "2022-04-06T15:11:06.762340",
     "status": "completed"
    },
    "tags": []
   },
   "outputs": [
    {
     "data": {
      "image/png": "[encoded data removed]",
      "text/plain": [
       "<Figure size 1080x1080 with 7 Axes>"
      ]
     },
     "metadata": {
      "needs_background": "light"
     },
     "output_type": "display_data"
    },
    {
     "data": {
      "image/png": "[encoded data removed]",
      "text/plain": [
       "<Figure size 1080x1080 with 7 Axes>"
      ]
     },
     "metadata": {
      "needs_background": "light"
     },
     "output_type": "display_data"
    },
    {
     "data": {
      "image/png": "[encoded data removed]",
      "text/plain": [
       "<Figure size 1080x1080 with 7 Axes>"
      ]
     },
     "metadata": {
      "needs_background": "light"
     },
     "output_type": "display_data"
    },
    {
     "data": {
      "image/png": "[encoded data removed]",
      "text/plain": [
       "<Figure size 1080x1080 with 7 Axes>"
      ]
     },
     "metadata": {
      "needs_background": "light"
     },
     "output_type": "display_data"
    },
    {
     "data": {
      "image/png": "[encoded data removed]",
      "text/plain": [
       "<Figure size 1080x1080 with 7 Axes>"
      ]
     },
     "metadata": {
      "needs_background": "light"
     },
     "output_type": "display_data"
    }
   ],
   "source": [
    "digits_index = [np.random.randint(10000) for i in range(5)]\n",
    "\n",
    "for i in digits_index:\n",
    "  plt.subplots(figsize=(15,15))\n",
    "  plt.subplot(1,8,1)\n",
    "  plt.imshow(X_train[i].reshape((28,28)))\n",
    "  f1 = activation_model.predict(X_train[i].reshape(1,28,28,1))\n",
    "\n",
    "  for j in range(2):\n",
    "    plt.subplot(1,7,j*3 + 2)\n",
    "    plt.imshow(f1[1][0, :, :, j*4+5])\n",
    "    plt.subplot(1,7,j*3 + 3)\n",
    "    plt.imshow(f1[2][0, :, :, j*4+5])\n",
    "    plt.subplot(1,7,j*3 + 4)\n",
    "    plt.imshow(f1[3][0, :, :, j*4+5])\n",
    "  plt.tight_layout()\n",
    "  plt.show()"
   ]
  },
  {
   "cell_type": "markdown",
   "id": "7632c319",
   "metadata": {
    "id": "2Ji9AwiIXhGN",
    "papermill": {
     "duration": 0.62944,
     "end_time": "2022-04-06T15:11:13.025267",
     "exception": false,
     "start_time": "2022-04-06T15:11:12.395827",
     "status": "completed"
    },
    "tags": []
   },
   "source": [
    "### Observe that how the convolutions have emphasized arcs, lines which are working as a feature to learn a better model for our task to digit classification."
   ]
  }
 ],
 "metadata": {
  "kernelspec": {
   "display_name": "Python 3",
   "language": "python",
   "name": "python3"
  },
  "language_info": {
   "codemirror_mode": {
    "name": "ipython",
    "version": 3
   },
   "file_extension": ".py",
   "mimetype": "text/x-python",
   "name": "python",
   "nbconvert_exporter": "python",
   "pygments_lexer": "ipython3",
   "version": "3.7.12"
  },
  "papermill": {
   "default_parameters": {},
   "duration": 452.070203,
   "end_time": "2022-04-06T15:11:16.493879",
   "environment_variables": {},
   "exception": null,
   "input_path": "__notebook__.ipynb",
   "output_path": "__notebook__.ipynb",
   "parameters": {},
   "start_time": "2022-04-06T15:03:44.423676",
   "version": "2.3.3"
  }
 },
 "nbformat": 4,
 "nbformat_minor": 5
}
